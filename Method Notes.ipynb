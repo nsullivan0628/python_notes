{
  "nbformat": 4,
  "nbformat_minor": 0,
  "metadata": {
    "colab": {
      "name": "Untitled1.ipynb",
      "provenance": [],
      "authorship_tag": "ABX9TyPHWEmSHK5l3r0ujouwbFZ1",
      "include_colab_link": true
    },
    "kernelspec": {
      "name": "python3",
      "display_name": "Python 3"
    },
    "language_info": {
      "name": "python"
    }
  },
  "cells": [
    {
      "cell_type": "markdown",
      "metadata": {
        "id": "view-in-github",
        "colab_type": "text"
      },
      "source": [
        "<a href=\"https://colab.research.google.com/github/nsullivan0628/python_notes/blob/main/Method%20Notes.ipynb\" target=\"_parent\"><img src=\"https://colab.research.google.com/assets/colab-badge.svg\" alt=\"Open In Colab\"/></a>"
      ]
    },
    {
      "cell_type": "markdown",
      "metadata": {
        "id": "YQRVTR3pQ9pN"
      },
      "source": [
        "## Python Methods\n",
        "*... and Instance, Class, and Static Methods*"
      ]
    },
    {
      "cell_type": "code",
      "metadata": {
        "id": "FzzSfXwBQ9PM"
      },
      "source": [
        "# What is a method? \n",
        "\n",
        "\n",
        "\n"
      ],
      "execution_count": null,
      "outputs": []
    },
    {
      "cell_type": "markdown",
      "metadata": {
        "id": "l2HlghY1RQRN"
      },
      "source": [
        "### Methods\n",
        "\n",
        "[stack overflow link explanation](https://stackoverflow.com/questions/3786881/what-is-a-method-in-python#:~:text=In%20Python%2C%20a%20method%20is,simply%20because%20they%20are%20lists.)\n",
        "\n",
        "\n",
        "In Python, a method is a function that is available for a given object because of the object's type.\n",
        "\n",
        "For example, if you create `my_list = [1, 2, 3]`, the append method can be applied to my_list because it's a Python list: my_list.append(4). All lists have an append method simply because they are lists.\n",
        "\n",
        "As another example, if you create `my_string = 'some lowercase text'`, the `upper` method can be applied to `my_string` simply because it's a Python string: `my_string.upper()`.\n",
        "\n",
        "Lists don't have an `upper` method, and strings don't have an `append` method. Why? Because methods only exist for a particular object if they have been explicitly defined for that type of object, and Python's developers have (so far) decided that those particular methods are not needed for those particular objects.\n",
        "\n",
        "To call a method, the format is object_name.method_name(), and any arguments to the method are listed within the parentheses. The method implicitly acts on the object being named, and thus some methods don't have any stated arguments since the object itself is the only necessary argument. For example, my_string.upper() doesn't have any listed arguments because the only required argument is the object itself, my_string.\n",
        "\n",
        "One common point of confusion regards the following:\n",
        "\n",
        "import math\n",
        "math.sqrt(81)\n",
        "Is sqrt a method of the math object? No. This is how you call the sqrt function from the math module. The format being used is module_name.function_name(), instead of object_name.method_name(). In general, the only way to distinguish between the two formats (visually) is to look in the rest of the code and see if the part before the period (math, my_list, my_string) is defined as an object or a module.\n",
        "\n"
      ]
    }
  ]
}