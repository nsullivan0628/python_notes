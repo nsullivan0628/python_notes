{
  "nbformat": 4,
  "nbformat_minor": 0,
  "metadata": {
    "colab": {
      "name": "Untitled1.ipynb",
      "provenance": [],
      "authorship_tag": "ABX9TyMAuPVqvop6JyYXIzP621lR",
      "include_colab_link": true
    },
    "kernelspec": {
      "name": "python3",
      "display_name": "Python 3"
    },
    "language_info": {
      "name": "python"
    }
  },
  "cells": [
    {
      "cell_type": "markdown",
      "metadata": {
        "id": "view-in-github",
        "colab_type": "text"
      },
      "source": [
        "<a href=\"https://colab.research.google.com/github/nsullivan0628/python_notes/blob/main/Method%20Notes.ipynb\" target=\"_parent\"><img src=\"https://colab.research.google.com/assets/colab-badge.svg\" alt=\"Open In Colab\"/></a>"
      ]
    },
    {
      "cell_type": "markdown",
      "metadata": {
        "id": "YQRVTR3pQ9pN"
      },
      "source": [
        "## Python Methods\n",
        "*... and Instance, Class, and Static Methods*"
      ]
    },
    {
      "cell_type": "markdown",
      "metadata": {
        "id": "l2HlghY1RQRN"
      },
      "source": [
        "### I. Methods\n",
        "\n",
        "definition - a method is a function that is available for a given object because of the object's type.\n",
        "\n",
        "[stack overflow link with good explanation](https://stackoverflow.com/questions/3786881/what-is-a-method-in-python#:~:text=In%20Python%2C%20a%20method%20is,simply%20because%20they%20are%20lists.)\n",
        "\n",
        "\n"
      ]
    },
    {
      "cell_type": "code",
      "metadata": {
        "id": "FzzSfXwBQ9PM"
      },
      "source": [
        "# Define a list\n",
        "my_list = [1,2,3]\n",
        "type(my_list)\n",
        "\n",
        "# append to the list, because append is a \"method\" that can be applied to all lists\n",
        "my_list.append(4)\n",
        "my_list.append(\"dogs\")\n",
        "type(my_list[1])\n",
        "type(my_list[4])\n",
        "\n",
        "# append adds the contents to the original object (my_list)\n"
      ],
      "execution_count": null,
      "outputs": []
    },
    {
      "cell_type": "code",
      "metadata": {
        "id": "2Vbc1wGhUNoI"
      },
      "source": [
        "# Define a string\n",
        "my_string = 'some text here'\n",
        "type(my_string)\n",
        "my_string.upper()\n",
        "up_string = my_string.upper()\n",
        "\n",
        "# upper() does not change the object, need to redefine new object\n"
      ],
      "execution_count": null,
      "outputs": []
    },
    {
      "cell_type": "code",
      "metadata": {
        "id": "_nqR6mFQVFVM"
      },
      "source": [
        "# Common confusion point: \n",
        "import math\n",
        "math.sqrt(81)\n",
        "\n",
        "# sqrt is NOT a method of the math object. \n",
        "# The format being used is module_name.function_name()\n",
        "# Math is a MODULE\n",
        "# sqrt is a FUNCTION"
      ],
      "execution_count": null,
      "outputs": []
    },
    {
      "cell_type": "markdown",
      "metadata": {
        "id": "jlOLaj7FVUSY"
      },
      "source": [
        "`module_name.function_name()`\n",
        "\n",
        "`object_name.method_name()`\n",
        "\n",
        "In general, the only way to distinguish between the two formats (visually) is to look in the rest of the code and see if the part before the period (math, my_list, my_string) is defined as an object or a module."
      ]
    },
    {
      "cell_type": "markdown",
      "metadata": {
        "id": "S65baI9jj3QA"
      },
      "source": [
        "Nate read this next:\n",
        "\n",
        "\n",
        "[more info on types of methods](https://realpython.com/instance-class-and-static-methods-demystified/#:~:text=Instance%20methods%20need%20a%20class,access%20to%20cls%20or%20self%20.)"
      ]
    }
  ]
}